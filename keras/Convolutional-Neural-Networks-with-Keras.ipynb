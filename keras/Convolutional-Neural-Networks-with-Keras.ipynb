{
 "cells": [
  {
   "cell_type": "markdown",
   "metadata": {},
   "source": [
    "\n",
    "# Convolutional Neural Networks with Keras\n",
    "\n"
   ]
  },
  {
   "cell_type": "markdown",
   "metadata": {},
   "source": [
    "In this lab, we will learn how to use the Keras library to build convolutional neural networks. We will also use the popular MNIST dataset and we will compare our results to using a conventional neural network.\n"
   ]
  },
  {
   "cell_type": "markdown",
   "metadata": {},
   "source": [
    "## Objectives for this Notebook    \n",
    "* How to use the Keras library to build convolutional neural networks\n",
    "* Convolutional neural network with one set of convolutional and pooling layers\n",
    "* Convolutional neural network with two sets of convolutional and pooling layers\n",
    "\n"
   ]
  },
  {
   "cell_type": "markdown",
   "metadata": {},
   "source": [
    "## Table of Contents\n",
    "\n",
    "<div class=\"alert alert-block alert-info\" style=\"margin-top: 20px\">\n",
    "\n",
    "<font size = 3>\n",
    "      \n",
    "1. <a href=\"#Import-Keras-and-Packages\">Import Keras and Packages</a>   \n",
    "2. <a href=\"#Convolutional-Neural-Network-with-One-Set-of-Convolutional-and-Pooling-Layers\">Convolutional Neural Network with One Set of Convolutional and Pooling Layers</a>  \n",
    "3. <a href=\"#Convolutional-Neural-Network-with-Two-Sets-of-Convolutional-and-Pooling-Layers\">Convolutional Neural Network with Two Sets of Convolutional and Pooling Layers</a>  \n",
    "\n",
    "</font>\n",
    "</div>\n"
   ]
  },
  {
   "cell_type": "markdown",
   "metadata": {},
   "source": [
    "### Install the necessary libraries\n"
   ]
  },
  {
   "cell_type": "markdown",
   "metadata": {},
   "source": [
    "Let's start by installing the keras libraries and the packages that we would need to build a neural network.\n"
   ]
  },
  {
   "cell_type": "code",
   "execution_count": 2,
   "metadata": {},
   "outputs": [
    {
     "name": "stdout",
     "output_type": "stream",
     "text": [
      "Requirement already satisfied: numpy==2.0.2 in /opt/conda/lib/python3.12/site-packages (2.0.2)\n",
      "Requirement already satisfied: pandas==2.2.2 in /opt/conda/lib/python3.12/site-packages (2.2.2)\n",
      "Requirement already satisfied: numpy>=1.26.0 in /opt/conda/lib/python3.12/site-packages (from pandas==2.2.2) (2.0.2)\n",
      "Requirement already satisfied: python-dateutil>=2.8.2 in /opt/conda/lib/python3.12/site-packages (from pandas==2.2.2) (2.9.0.post0)\n",
      "Requirement already satisfied: pytz>=2020.1 in /opt/conda/lib/python3.12/site-packages (from pandas==2.2.2) (2024.2)\n",
      "Requirement already satisfied: tzdata>=2022.7 in /opt/conda/lib/python3.12/site-packages (from pandas==2.2.2) (2025.2)\n",
      "Requirement already satisfied: six>=1.5 in /opt/conda/lib/python3.12/site-packages (from python-dateutil>=2.8.2->pandas==2.2.2) (1.17.0)\n",
      "Requirement already satisfied: tensorflow_cpu==2.18.0 in /opt/conda/lib/python3.12/site-packages (2.18.0)\n",
      "Requirement already satisfied: absl-py>=1.0.0 in /opt/conda/lib/python3.12/site-packages (from tensorflow_cpu==2.18.0) (2.3.1)\n",
      "Requirement already satisfied: astunparse>=1.6.0 in /opt/conda/lib/python3.12/site-packages (from tensorflow_cpu==2.18.0) (1.6.3)\n",
      "Requirement already satisfied: flatbuffers>=24.3.25 in /opt/conda/lib/python3.12/site-packages (from tensorflow_cpu==2.18.0) (25.9.23)\n",
      "Requirement already satisfied: gast!=0.5.0,!=0.5.1,!=0.5.2,>=0.2.1 in /opt/conda/lib/python3.12/site-packages (from tensorflow_cpu==2.18.0) (0.6.0)\n",
      "Requirement already satisfied: google-pasta>=0.1.1 in /opt/conda/lib/python3.12/site-packages (from tensorflow_cpu==2.18.0) (0.2.0)\n",
      "Requirement already satisfied: libclang>=13.0.0 in /opt/conda/lib/python3.12/site-packages (from tensorflow_cpu==2.18.0) (18.1.1)\n",
      "Requirement already satisfied: opt-einsum>=2.3.2 in /opt/conda/lib/python3.12/site-packages (from tensorflow_cpu==2.18.0) (3.4.0)\n",
      "Requirement already satisfied: packaging in /opt/conda/lib/python3.12/site-packages (from tensorflow_cpu==2.18.0) (24.2)\n",
      "Requirement already satisfied: protobuf!=4.21.0,!=4.21.1,!=4.21.2,!=4.21.3,!=4.21.4,!=4.21.5,<6.0.0dev,>=3.20.3 in /opt/conda/lib/python3.12/site-packages (from tensorflow_cpu==2.18.0) (5.29.5)\n",
      "Requirement already satisfied: requests<3,>=2.21.0 in /opt/conda/lib/python3.12/site-packages (from tensorflow_cpu==2.18.0) (2.32.3)\n",
      "Requirement already satisfied: setuptools in /opt/conda/lib/python3.12/site-packages (from tensorflow_cpu==2.18.0) (75.8.0)\n",
      "Requirement already satisfied: six>=1.12.0 in /opt/conda/lib/python3.12/site-packages (from tensorflow_cpu==2.18.0) (1.17.0)\n",
      "Requirement already satisfied: termcolor>=1.1.0 in /opt/conda/lib/python3.12/site-packages (from tensorflow_cpu==2.18.0) (3.1.0)\n",
      "Requirement already satisfied: typing-extensions>=3.6.6 in /opt/conda/lib/python3.12/site-packages (from tensorflow_cpu==2.18.0) (4.12.2)\n",
      "Requirement already satisfied: wrapt>=1.11.0 in /opt/conda/lib/python3.12/site-packages (from tensorflow_cpu==2.18.0) (1.17.3)\n",
      "Requirement already satisfied: grpcio<2.0,>=1.24.3 in /opt/conda/lib/python3.12/site-packages (from tensorflow_cpu==2.18.0) (1.75.1)\n",
      "Requirement already satisfied: tensorboard<2.19,>=2.18 in /opt/conda/lib/python3.12/site-packages (from tensorflow_cpu==2.18.0) (2.18.0)\n",
      "Requirement already satisfied: keras>=3.5.0 in /opt/conda/lib/python3.12/site-packages (from tensorflow_cpu==2.18.0) (3.11.3)\n",
      "Requirement already satisfied: numpy<2.1.0,>=1.26.0 in /opt/conda/lib/python3.12/site-packages (from tensorflow_cpu==2.18.0) (2.0.2)\n",
      "Requirement already satisfied: h5py>=3.11.0 in /opt/conda/lib/python3.12/site-packages (from tensorflow_cpu==2.18.0) (3.14.0)\n",
      "Requirement already satisfied: ml-dtypes<0.5.0,>=0.4.0 in /opt/conda/lib/python3.12/site-packages (from tensorflow_cpu==2.18.0) (0.4.1)\n",
      "Requirement already satisfied: wheel<1.0,>=0.23.0 in /opt/conda/lib/python3.12/site-packages (from astunparse>=1.6.0->tensorflow_cpu==2.18.0) (0.45.1)\n",
      "Requirement already satisfied: rich in /opt/conda/lib/python3.12/site-packages (from keras>=3.5.0->tensorflow_cpu==2.18.0) (14.1.0)\n",
      "Requirement already satisfied: namex in /opt/conda/lib/python3.12/site-packages (from keras>=3.5.0->tensorflow_cpu==2.18.0) (0.1.0)\n",
      "Requirement already satisfied: optree in /opt/conda/lib/python3.12/site-packages (from keras>=3.5.0->tensorflow_cpu==2.18.0) (0.17.0)\n",
      "Requirement already satisfied: charset_normalizer<4,>=2 in /opt/conda/lib/python3.12/site-packages (from requests<3,>=2.21.0->tensorflow_cpu==2.18.0) (3.4.1)\n",
      "Requirement already satisfied: idna<4,>=2.5 in /opt/conda/lib/python3.12/site-packages (from requests<3,>=2.21.0->tensorflow_cpu==2.18.0) (3.10)\n",
      "Requirement already satisfied: urllib3<3,>=1.21.1 in /opt/conda/lib/python3.12/site-packages (from requests<3,>=2.21.0->tensorflow_cpu==2.18.0) (2.3.0)\n",
      "Requirement already satisfied: certifi>=2017.4.17 in /opt/conda/lib/python3.12/site-packages (from requests<3,>=2.21.0->tensorflow_cpu==2.18.0) (2024.12.14)\n",
      "Requirement already satisfied: markdown>=2.6.8 in /opt/conda/lib/python3.12/site-packages (from tensorboard<2.19,>=2.18->tensorflow_cpu==2.18.0) (3.9)\n",
      "Requirement already satisfied: tensorboard-data-server<0.8.0,>=0.7.0 in /opt/conda/lib/python3.12/site-packages (from tensorboard<2.19,>=2.18->tensorflow_cpu==2.18.0) (0.7.2)\n",
      "Requirement already satisfied: werkzeug>=1.0.1 in /opt/conda/lib/python3.12/site-packages (from tensorboard<2.19,>=2.18->tensorflow_cpu==2.18.0) (3.1.3)\n",
      "Requirement already satisfied: MarkupSafe>=2.1.1 in /opt/conda/lib/python3.12/site-packages (from werkzeug>=1.0.1->tensorboard<2.19,>=2.18->tensorflow_cpu==2.18.0) (3.0.2)\n",
      "Requirement already satisfied: markdown-it-py>=2.2.0 in /opt/conda/lib/python3.12/site-packages (from rich->keras>=3.5.0->tensorflow_cpu==2.18.0) (4.0.0)\n",
      "Requirement already satisfied: pygments<3.0.0,>=2.13.0 in /opt/conda/lib/python3.12/site-packages (from rich->keras>=3.5.0->tensorflow_cpu==2.18.0) (2.19.1)\n",
      "Requirement already satisfied: mdurl~=0.1 in /opt/conda/lib/python3.12/site-packages (from markdown-it-py>=2.2.0->rich->keras>=3.5.0->tensorflow_cpu==2.18.0) (0.1.2)\n",
      "Requirement already satisfied: matplotlib==3.9.2 in /opt/conda/lib/python3.12/site-packages (3.9.2)\n",
      "Requirement already satisfied: contourpy>=1.0.1 in /opt/conda/lib/python3.12/site-packages (from matplotlib==3.9.2) (1.3.3)\n",
      "Requirement already satisfied: cycler>=0.10 in /opt/conda/lib/python3.12/site-packages (from matplotlib==3.9.2) (0.12.1)\n",
      "Requirement already satisfied: fonttools>=4.22.0 in /opt/conda/lib/python3.12/site-packages (from matplotlib==3.9.2) (4.60.0)\n",
      "Requirement already satisfied: kiwisolver>=1.3.1 in /opt/conda/lib/python3.12/site-packages (from matplotlib==3.9.2) (1.4.9)\n",
      "Requirement already satisfied: numpy>=1.23 in /opt/conda/lib/python3.12/site-packages (from matplotlib==3.9.2) (2.0.2)\n",
      "Requirement already satisfied: packaging>=20.0 in /opt/conda/lib/python3.12/site-packages (from matplotlib==3.9.2) (24.2)\n",
      "Requirement already satisfied: pillow>=8 in /opt/conda/lib/python3.12/site-packages (from matplotlib==3.9.2) (11.3.0)\n",
      "Requirement already satisfied: pyparsing>=2.3.1 in /opt/conda/lib/python3.12/site-packages (from matplotlib==3.9.2) (3.2.5)\n",
      "Requirement already satisfied: python-dateutil>=2.7 in /opt/conda/lib/python3.12/site-packages (from matplotlib==3.9.2) (2.9.0.post0)\n",
      "Requirement already satisfied: six>=1.5 in /opt/conda/lib/python3.12/site-packages (from python-dateutil>=2.7->matplotlib==3.9.2) (1.17.0)\n"
     ]
    }
   ],
   "source": [
    "# All Libraries required for this lab are listed below. \n",
    "# If you run this notebook on a different environment, e.g. your desktop, you may want to install these.\n",
    "!pip install numpy==2.0.2\n",
    "!pip install pandas==2.2.2\n",
    "!pip install tensorflow_cpu==2.18.0\n",
    "!pip install matplotlib==3.9.2"
   ]
  },
  {
   "cell_type": "markdown",
   "metadata": {},
   "source": [
    "#### Suppress the tensorflow warning messages\n",
    "We use the following code to  suppress the warning messages due to use of CPU architechture for tensoflow.\n",
    "You may want to **comment out** these lines if you are using the GPU architechture\n"
   ]
  },
  {
   "cell_type": "code",
   "execution_count": 3,
   "metadata": {},
   "outputs": [],
   "source": [
    "import os\n",
    "os.environ['TF_ENABLE_ONEDNN_OPTS'] = '0'\n",
    "os.environ['TF_CPP_MIN_LOG_LEVEL'] = '2'"
   ]
  },
  {
   "cell_type": "markdown",
   "metadata": {},
   "source": [
    "## Import Keras and Packages\n"
   ]
  },
  {
   "cell_type": "code",
   "execution_count": 4,
   "metadata": {},
   "outputs": [],
   "source": [
    "import keras\n",
    "from keras.models import Sequential\n",
    "from keras.layers import Dense\n",
    "from keras.layers import Input\n",
    "from keras.utils import to_categorical"
   ]
  },
  {
   "cell_type": "markdown",
   "metadata": {},
   "source": [
    "When working with convolutional neural networks in particular, we will need additional packages.\n"
   ]
  },
  {
   "cell_type": "code",
   "execution_count": 5,
   "metadata": {},
   "outputs": [],
   "source": [
    "from keras.layers import Conv2D # to add convolutional layers\n",
    "from keras.layers import MaxPooling2D # to add pooling layers\n",
    "from keras.layers import Flatten # to flatten data for fully connected layers"
   ]
  },
  {
   "cell_type": "markdown",
   "metadata": {},
   "source": [
    "## Convolutional Neural Network with One Set of Convolutional and Pooling Layers\n"
   ]
  },
  {
   "cell_type": "code",
   "execution_count": 6,
   "metadata": {},
   "outputs": [
    {
     "name": "stdout",
     "output_type": "stream",
     "text": [
      "Downloading data from https://storage.googleapis.com/tensorflow/tf-keras-datasets/mnist.npz\n",
      "\u001b[1m11490434/11490434\u001b[0m \u001b[32m━━━━━━━━━━━━━━━━━━━━\u001b[0m\u001b[37m\u001b[0m \u001b[1m0s\u001b[0m 0us/step\n"
     ]
    }
   ],
   "source": [
    "# import data\n",
    "from keras.datasets import mnist\n",
    "\n",
    "# load data\n",
    "(X_train, y_train), (X_test, y_test) = mnist.load_data()\n",
    "\n",
    "# reshape to be [samples][pixels][width][height]\n",
    "X_train = X_train.reshape(X_train.shape[0], 28, 28, 1).astype('float32')\n",
    "X_test = X_test.reshape(X_test.shape[0], 28, 28, 1).astype('float32')"
   ]
  },
  {
   "cell_type": "markdown",
   "metadata": {},
   "source": [
    "Let's normalize the pixel values to be between 0 and 1\n"
   ]
  },
  {
   "cell_type": "code",
   "execution_count": 7,
   "metadata": {},
   "outputs": [],
   "source": [
    "X_train = X_train / 255 # normalize training data\n",
    "X_test = X_test / 255 # normalize test data"
   ]
  },
  {
   "cell_type": "markdown",
   "metadata": {},
   "source": [
    "Next, let's convert the target variable into binary categories\n"
   ]
  },
  {
   "cell_type": "code",
   "execution_count": 8,
   "metadata": {},
   "outputs": [],
   "source": [
    "y_train = to_categorical(y_train)\n",
    "y_test = to_categorical(y_test)\n",
    "\n",
    "num_classes = y_test.shape[1] # number of categories"
   ]
  },
  {
   "cell_type": "markdown",
   "metadata": {},
   "source": [
    "Next, let's define a function that creates our model. Let's start with one set of convolutional and pooling layers.\n"
   ]
  },
  {
   "cell_type": "code",
   "execution_count": 9,
   "metadata": {},
   "outputs": [],
   "source": [
    "def convolutional_model():\n",
    "    \n",
    "    # create model\n",
    "    model = Sequential()\n",
    "    model.add(Input(shape=(28, 28, 1)))\n",
    "    model.add(Conv2D(16, (5, 5), strides=(1, 1), activation='relu'))\n",
    "    model.add(MaxPooling2D(pool_size=(2, 2), strides=(2, 2)))\n",
    "    \n",
    "    model.add(Flatten())\n",
    "    model.add(Dense(100, activation='relu'))\n",
    "    model.add(Dense(num_classes, activation='softmax'))\n",
    "    \n",
    "    # compile model\n",
    "    model.compile(optimizer='adam', loss='categorical_crossentropy',  metrics=['accuracy'])\n",
    "    return model"
   ]
  },
  {
   "cell_type": "markdown",
   "metadata": {},
   "source": [
    "Finally, let's call the function to create the model, and then let's train it and evaluate it.\n"
   ]
  },
  {
   "cell_type": "code",
   "execution_count": 10,
   "metadata": {
    "scrolled": true
   },
   "outputs": [
    {
     "name": "stdout",
     "output_type": "stream",
     "text": [
      "Epoch 1/10\n",
      "300/300 - 34s - 114ms/step - accuracy: 0.9131 - loss: 0.3101 - val_accuracy: 0.9669 - val_loss: 0.1175\n",
      "Epoch 2/10\n",
      "300/300 - 33s - 110ms/step - accuracy: 0.9731 - loss: 0.0914 - val_accuracy: 0.9793 - val_loss: 0.0696\n",
      "Epoch 3/10\n",
      "300/300 - 33s - 109ms/step - accuracy: 0.9827 - loss: 0.0596 - val_accuracy: 0.9827 - val_loss: 0.0470\n",
      "Epoch 4/10\n",
      "300/300 - 32s - 107ms/step - accuracy: 0.9868 - loss: 0.0447 - val_accuracy: 0.9846 - val_loss: 0.0471\n",
      "Epoch 5/10\n",
      "300/300 - 32s - 108ms/step - accuracy: 0.9893 - loss: 0.0367 - val_accuracy: 0.9869 - val_loss: 0.0402\n",
      "Epoch 6/10\n",
      "300/300 - 32s - 108ms/step - accuracy: 0.9909 - loss: 0.0296 - val_accuracy: 0.9870 - val_loss: 0.0363\n",
      "Epoch 7/10\n",
      "300/300 - 32s - 108ms/step - accuracy: 0.9925 - loss: 0.0245 - val_accuracy: 0.9874 - val_loss: 0.0372\n",
      "Epoch 8/10\n",
      "300/300 - 32s - 108ms/step - accuracy: 0.9939 - loss: 0.0202 - val_accuracy: 0.9875 - val_loss: 0.0380\n",
      "Epoch 9/10\n",
      "300/300 - 32s - 108ms/step - accuracy: 0.9949 - loss: 0.0169 - val_accuracy: 0.9872 - val_loss: 0.0427\n",
      "Epoch 10/10\n",
      "300/300 - 32s - 108ms/step - accuracy: 0.9955 - loss: 0.0144 - val_accuracy: 0.9874 - val_loss: 0.0426\n",
      "Accuracy: 0.9873999953269958 \n",
      " Error: 1.260000467300415\n"
     ]
    }
   ],
   "source": [
    "# build the model\n",
    "model = convolutional_model()\n",
    "\n",
    "# fit the model\n",
    "model.fit(X_train, y_train, validation_data=(X_test, y_test), epochs=10, batch_size=200, verbose=2)\n",
    "\n",
    "# evaluate the model\n",
    "scores = model.evaluate(X_test, y_test, verbose=0)\n",
    "print(\"Accuracy: {} \\n Error: {}\".format(scores[1], 100-scores[1]*100))"
   ]
  },
  {
   "cell_type": "markdown",
   "metadata": {},
   "source": [
    "------------------------------------------\n"
   ]
  },
  {
   "cell_type": "markdown",
   "metadata": {},
   "source": [
    "## Convolutional Neural Network with Two Sets of Convolutional and Pooling Layers\n"
   ]
  },
  {
   "cell_type": "markdown",
   "metadata": {},
   "source": [
    "Let's redefine our convolutional model so that it has two convolutional and pooling layers instead of just one layer of each.\n"
   ]
  },
  {
   "cell_type": "code",
   "execution_count": 11,
   "metadata": {},
   "outputs": [],
   "source": [
    "def convolutional_model():\n",
    "    \n",
    "    # create model\n",
    "    model = Sequential()\n",
    "    model.add(Input(shape=(28, 28, 1)))\n",
    "    model.add(Conv2D(16, (5, 5), activation='relu'))\n",
    "    model.add(MaxPooling2D(pool_size=(2, 2), strides=(2, 2)))\n",
    "    \n",
    "    model.add(Conv2D(8, (2, 2), activation='relu'))\n",
    "    model.add(MaxPooling2D(pool_size=(2, 2), strides=(2, 2)))\n",
    "    \n",
    "    model.add(Flatten())\n",
    "    model.add(Dense(100, activation='relu'))\n",
    "    model.add(Dense(num_classes, activation='softmax'))\n",
    "    \n",
    "    # Compile model\n",
    "    model.compile(optimizer='adam', loss='categorical_crossentropy',  metrics=['accuracy'])\n",
    "    return model"
   ]
  },
  {
   "cell_type": "markdown",
   "metadata": {},
   "source": [
    "Now, let's call the function to create our new convolutional neural network, and then let's train it and evaluate it.\n"
   ]
  },
  {
   "cell_type": "code",
   "execution_count": 12,
   "metadata": {},
   "outputs": [
    {
     "name": "stdout",
     "output_type": "stream",
     "text": [
      "Epoch 1/10\n",
      "300/300 - 36s - 120ms/step - accuracy: 0.8663 - loss: 0.4701 - val_accuracy: 0.9645 - val_loss: 0.1244\n",
      "Epoch 2/10\n",
      "300/300 - 35s - 117ms/step - accuracy: 0.9686 - loss: 0.1058 - val_accuracy: 0.9753 - val_loss: 0.0794\n",
      "Epoch 3/10\n",
      "300/300 - 36s - 120ms/step - accuracy: 0.9765 - loss: 0.0759 - val_accuracy: 0.9808 - val_loss: 0.0592\n",
      "Epoch 4/10\n",
      "300/300 - 35s - 115ms/step - accuracy: 0.9812 - loss: 0.0610 - val_accuracy: 0.9830 - val_loss: 0.0510\n",
      "Epoch 5/10\n",
      "300/300 - 34s - 115ms/step - accuracy: 0.9837 - loss: 0.0511 - val_accuracy: 0.9847 - val_loss: 0.0450\n",
      "Epoch 6/10\n",
      "300/300 - 34s - 115ms/step - accuracy: 0.9856 - loss: 0.0473 - val_accuracy: 0.9828 - val_loss: 0.0495\n",
      "Epoch 7/10\n",
      "300/300 - 35s - 116ms/step - accuracy: 0.9870 - loss: 0.0410 - val_accuracy: 0.9853 - val_loss: 0.0436\n",
      "Epoch 8/10\n",
      "300/300 - 35s - 117ms/step - accuracy: 0.9885 - loss: 0.0367 - val_accuracy: 0.9879 - val_loss: 0.0378\n",
      "Epoch 9/10\n",
      "300/300 - 35s - 116ms/step - accuracy: 0.9898 - loss: 0.0338 - val_accuracy: 0.9880 - val_loss: 0.0373\n",
      "Epoch 10/10\n",
      "300/300 - 34s - 115ms/step - accuracy: 0.9905 - loss: 0.0311 - val_accuracy: 0.9893 - val_loss: 0.0337\n",
      "Accuracy: 0.989300012588501 \n",
      " Error: 1.0699987411499023\n"
     ]
    }
   ],
   "source": [
    "# build the model\n",
    "model = convolutional_model()\n",
    "\n",
    "# fit the model\n",
    "model.fit(X_train, y_train, validation_data=(X_test, y_test), epochs=10, batch_size=200, verbose=2)\n",
    "\n",
    "# evaluate the model\n",
    "scores = model.evaluate(X_test, y_test, verbose=0)\n",
    "print(\"Accuracy: {} \\n Error: {}\".format(scores[1], 100-scores[1]*100))"
   ]
  },
  {
   "cell_type": "markdown",
   "metadata": {},
   "source": [
    "<h3>Practice Exercise 1</h3>\n"
   ]
  },
  {
   "cell_type": "markdown",
   "metadata": {},
   "source": [
    "Let's see how batch size affects the time required and accuracy of the model training. \n",
    "For this, you can try to change batch_size to 1024 and check it's effect on accuracy\n"
   ]
  },
  {
   "cell_type": "code",
   "execution_count": 13,
   "metadata": {},
   "outputs": [
    {
     "name": "stdout",
     "output_type": "stream",
     "text": [
      "Epoch 1/10\n",
      "59/59 - 35s - 586ms/step - accuracy: 0.6663 - loss: 1.2444 - val_accuracy: 0.8911 - val_loss: 0.3909\n",
      "Epoch 2/10\n",
      "59/59 - 34s - 569ms/step - accuracy: 0.9143 - loss: 0.2984 - val_accuracy: 0.9421 - val_loss: 0.2117\n",
      "Epoch 3/10\n",
      "59/59 - 33s - 558ms/step - accuracy: 0.9449 - loss: 0.1901 - val_accuracy: 0.9570 - val_loss: 0.1485\n",
      "Epoch 4/10\n",
      "59/59 - 34s - 568ms/step - accuracy: 0.9580 - loss: 0.1434 - val_accuracy: 0.9647 - val_loss: 0.1193\n",
      "Epoch 5/10\n",
      "59/59 - 35s - 598ms/step - accuracy: 0.9655 - loss: 0.1181 - val_accuracy: 0.9708 - val_loss: 0.0997\n",
      "Epoch 6/10\n",
      "59/59 - 37s - 629ms/step - accuracy: 0.9696 - loss: 0.1020 - val_accuracy: 0.9736 - val_loss: 0.0899\n",
      "Epoch 7/10\n",
      "59/59 - 37s - 631ms/step - accuracy: 0.9723 - loss: 0.0911 - val_accuracy: 0.9730 - val_loss: 0.0881\n",
      "Epoch 8/10\n",
      "59/59 - 41s - 691ms/step - accuracy: 0.9746 - loss: 0.0843 - val_accuracy: 0.9776 - val_loss: 0.0774\n",
      "Epoch 9/10\n",
      "59/59 - 43s - 724ms/step - accuracy: 0.9768 - loss: 0.0763 - val_accuracy: 0.9791 - val_loss: 0.0685\n",
      "Epoch 10/10\n",
      "59/59 - 41s - 688ms/step - accuracy: 0.9788 - loss: 0.0709 - val_accuracy: 0.9788 - val_loss: 0.0676\n",
      "Accuracy: 0.9787999987602234 \n",
      " Error: 2.120000123977661\n"
     ]
    }
   ],
   "source": [
    "# build the model\n",
    "model = convolutional_model()\n",
    "\n",
    "# fit the model\n",
    "model.fit(X_train, y_train, validation_data=(X_test, y_test), epochs=10, batch_size=1024, verbose=2)\n",
    "\n",
    "# evaluate the model\n",
    "scores = model.evaluate(X_test, y_test, verbose=0)\n",
    "print(\"Accuracy: {} \\n Error: {}\".format(scores[1], 100-scores[1]*100))\n",
    "\n"
   ]
  },
  {
   "cell_type": "markdown",
   "metadata": {},
   "source": [
    "<h3>Practice Exercise 2</h3>\n"
   ]
  },
  {
   "cell_type": "markdown",
   "metadata": {},
   "source": [
    "Now, let's see how number of epochs  affect the time required and accuracy of the model training. \n",
    "For this, you can keep the batch_size=1024 and epochs=25 and check it's effect on accuracy\n"
   ]
  },
  {
   "cell_type": "code",
   "execution_count": 14,
   "metadata": {},
   "outputs": [
    {
     "name": "stdout",
     "output_type": "stream",
     "text": [
      "Epoch 1/25\n",
      "59/59 - 38s - 645ms/step - accuracy: 0.6580 - loss: 1.2565 - val_accuracy: 0.8965 - val_loss: 0.3659\n",
      "Epoch 2/25\n",
      "59/59 - 33s - 556ms/step - accuracy: 0.9185 - loss: 0.2839 - val_accuracy: 0.9440 - val_loss: 0.1989\n",
      "Epoch 3/25\n",
      "59/59 - 33s - 557ms/step - accuracy: 0.9461 - loss: 0.1850 - val_accuracy: 0.9575 - val_loss: 0.1450\n",
      "Epoch 4/25\n",
      "59/59 - 33s - 556ms/step - accuracy: 0.9579 - loss: 0.1427 - val_accuracy: 0.9649 - val_loss: 0.1190\n",
      "Epoch 5/25\n",
      "59/59 - 33s - 554ms/step - accuracy: 0.9662 - loss: 0.1159 - val_accuracy: 0.9710 - val_loss: 0.0979\n",
      "Epoch 6/25\n",
      "59/59 - 42s - 704ms/step - accuracy: 0.9700 - loss: 0.1003 - val_accuracy: 0.9718 - val_loss: 0.0903\n",
      "Epoch 7/25\n",
      "59/59 - 42s - 714ms/step - accuracy: 0.9740 - loss: 0.0887 - val_accuracy: 0.9745 - val_loss: 0.0813\n",
      "Epoch 8/25\n",
      "59/59 - 73s - 1s/step - accuracy: 0.9761 - loss: 0.0805 - val_accuracy: 0.9786 - val_loss: 0.0724\n",
      "Epoch 9/25\n",
      "59/59 - 39s - 666ms/step - accuracy: 0.9777 - loss: 0.0739 - val_accuracy: 0.9783 - val_loss: 0.0708\n",
      "Epoch 10/25\n",
      "59/59 - 43s - 734ms/step - accuracy: 0.9798 - loss: 0.0687 - val_accuracy: 0.9805 - val_loss: 0.0635\n",
      "Epoch 11/25\n",
      "59/59 - 35s - 591ms/step - accuracy: 0.9816 - loss: 0.0619 - val_accuracy: 0.9816 - val_loss: 0.0601\n",
      "Epoch 12/25\n",
      "59/59 - 39s - 663ms/step - accuracy: 0.9829 - loss: 0.0583 - val_accuracy: 0.9797 - val_loss: 0.0652\n",
      "Epoch 13/25\n",
      "59/59 - 44s - 739ms/step - accuracy: 0.9835 - loss: 0.0554 - val_accuracy: 0.9837 - val_loss: 0.0563\n",
      "Epoch 14/25\n",
      "59/59 - 35s - 599ms/step - accuracy: 0.9845 - loss: 0.0516 - val_accuracy: 0.9840 - val_loss: 0.0523\n",
      "Epoch 15/25\n",
      "59/59 - 33s - 562ms/step - accuracy: 0.9854 - loss: 0.0490 - val_accuracy: 0.9839 - val_loss: 0.0516\n",
      "Epoch 16/25\n",
      "59/59 - 33s - 555ms/step - accuracy: 0.9856 - loss: 0.0471 - val_accuracy: 0.9850 - val_loss: 0.0492\n",
      "Epoch 17/25\n",
      "59/59 - 33s - 553ms/step - accuracy: 0.9872 - loss: 0.0436 - val_accuracy: 0.9860 - val_loss: 0.0460\n",
      "Epoch 18/25\n",
      "59/59 - 33s - 552ms/step - accuracy: 0.9876 - loss: 0.0417 - val_accuracy: 0.9858 - val_loss: 0.0468\n",
      "Epoch 19/25\n",
      "59/59 - 33s - 556ms/step - accuracy: 0.9880 - loss: 0.0400 - val_accuracy: 0.9868 - val_loss: 0.0453\n",
      "Epoch 20/25\n",
      "59/59 - 33s - 554ms/step - accuracy: 0.9881 - loss: 0.0394 - val_accuracy: 0.9862 - val_loss: 0.0447\n",
      "Epoch 21/25\n",
      "59/59 - 33s - 557ms/step - accuracy: 0.9892 - loss: 0.0373 - val_accuracy: 0.9859 - val_loss: 0.0460\n",
      "Epoch 22/25\n",
      "59/59 - 33s - 554ms/step - accuracy: 0.9886 - loss: 0.0363 - val_accuracy: 0.9859 - val_loss: 0.0461\n",
      "Epoch 23/25\n",
      "59/59 - 33s - 554ms/step - accuracy: 0.9900 - loss: 0.0348 - val_accuracy: 0.9861 - val_loss: 0.0440\n",
      "Epoch 24/25\n",
      "59/59 - 33s - 552ms/step - accuracy: 0.9899 - loss: 0.0326 - val_accuracy: 0.9874 - val_loss: 0.0422\n",
      "Epoch 25/25\n",
      "59/59 - 32s - 551ms/step - accuracy: 0.9903 - loss: 0.0318 - val_accuracy: 0.9872 - val_loss: 0.0435\n",
      "Accuracy: 0.9872000217437744 \n",
      " Error: 1.2799978256225586\n"
     ]
    }
   ],
   "source": [
    "# build the model\n",
    "model = convolutional_model()\n",
    "\n",
    "# fit the model\n",
    "model.fit(X_train, y_train, validation_data=(X_test, y_test), epochs=25, batch_size=1024, verbose=2)\n",
    "\n",
    "# evaluate the model\n",
    "scores = model.evaluate(X_test, y_test, verbose=0)\n",
    "print(\"Accuracy: {} \\n Error: {}\".format(scores[1], 100-scores[1]*100))\n",
    "\n",
    "\n"
   ]
  },
  {
   "cell_type": "markdown",
   "metadata": {},
   "source": [
    "<!--\n",
    "## Change Log\n",
    "\n",
    "|  Date (YYYY-MM-DD) |  Version | Changed By  |  Change Description |\n",
    "|---|---|---|---|\n",
    "| 2024-11-20  | 3.0  | Aman  |  Updated the library versions to current |\n",
    "| 2020-09-21  | 2.0  | Srishti  |  Migrated Lab to Markdown and added to course repo in GitLab |\n",
    "\n",
    "\n",
    "\n",
    "<hr>\n",
    "\n",
    "## <h3 align=\"center\"> © IBM Corporation. All rights reserved. <h3/>\n"
   ]
  }
 ],
 "metadata": {
  "kernelspec": {
   "display_name": "Python 3 (ipykernel)",
   "language": "python",
   "name": "python3"
  },
  "language_info": {
   "codemirror_mode": {
    "name": "ipython",
    "version": 3
   },
   "file_extension": ".py",
   "mimetype": "text/x-python",
   "name": "python",
   "nbconvert_exporter": "python",
   "pygments_lexer": "ipython3",
   "version": "3.12.8"
  },
  "prev_pub_hash": "cf25684b5f40b85f8cce20a89cf822f405779387881f3fd281fbe1317debe407"
 },
 "nbformat": 4,
 "nbformat_minor": 4
}
